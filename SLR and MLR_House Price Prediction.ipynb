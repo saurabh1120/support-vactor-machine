{
 "cells": [
  {
   "cell_type": "markdown",
   "metadata": {},
   "source": [
    "## Steps for ML Model\n",
    "\n",
    "1. Read the dataset\n",
    "2. Exploratory Data Analysis\n",
    "    * Initial Inspection\n",
    "    * Visualization\n",
    "3. Preprocess the Data\n",
    "    * Missing Values\n",
    "    * Feature Scaling\n",
    "    * Label Encoding\n",
    "    * Feature Selection / Feature Extraction\n",
    "4. Split into Train and Test\n",
    "5. Build the Model\n",
    "6. Train the Data / Learn from Data\n",
    "7. Test and Evaluate the Model\n",
    "8. Use the model for predicting future"
   ]
  },
  {
   "cell_type": "markdown",
   "metadata": {},
   "source": [
    "### Importing Libaries and Read the Dataset"
   ]
  },
  {
   "cell_type": "code",
   "execution_count": 1,
   "metadata": {},
   "outputs": [
    {
     "data": {
      "text/html": [
       "<div>\n",
       "<style scoped>\n",
       "    .dataframe tbody tr th:only-of-type {\n",
       "        vertical-align: middle;\n",
       "    }\n",
       "\n",
       "    .dataframe tbody tr th {\n",
       "        vertical-align: top;\n",
       "    }\n",
       "\n",
       "    .dataframe thead th {\n",
       "        text-align: right;\n",
       "    }\n",
       "</style>\n",
       "<table border=\"1\" class=\"dataframe\">\n",
       "  <thead>\n",
       "    <tr style=\"text-align: right;\">\n",
       "      <th></th>\n",
       "      <th>Unnamed: 0</th>\n",
       "      <th>price</th>\n",
       "      <th>lotsize</th>\n",
       "      <th>bedrooms</th>\n",
       "      <th>bathrms</th>\n",
       "      <th>stories</th>\n",
       "      <th>driveway</th>\n",
       "      <th>recroom</th>\n",
       "      <th>fullbase</th>\n",
       "      <th>gashw</th>\n",
       "      <th>airco</th>\n",
       "      <th>garagepl</th>\n",
       "      <th>prefarea</th>\n",
       "    </tr>\n",
       "  </thead>\n",
       "  <tbody>\n",
       "    <tr>\n",
       "      <th>0</th>\n",
       "      <td>1</td>\n",
       "      <td>42000.0</td>\n",
       "      <td>5850</td>\n",
       "      <td>3</td>\n",
       "      <td>1</td>\n",
       "      <td>2</td>\n",
       "      <td>yes</td>\n",
       "      <td>no</td>\n",
       "      <td>yes</td>\n",
       "      <td>no</td>\n",
       "      <td>no</td>\n",
       "      <td>1</td>\n",
       "      <td>no</td>\n",
       "    </tr>\n",
       "    <tr>\n",
       "      <th>1</th>\n",
       "      <td>2</td>\n",
       "      <td>38500.0</td>\n",
       "      <td>4000</td>\n",
       "      <td>2</td>\n",
       "      <td>1</td>\n",
       "      <td>1</td>\n",
       "      <td>yes</td>\n",
       "      <td>no</td>\n",
       "      <td>no</td>\n",
       "      <td>no</td>\n",
       "      <td>no</td>\n",
       "      <td>0</td>\n",
       "      <td>no</td>\n",
       "    </tr>\n",
       "    <tr>\n",
       "      <th>2</th>\n",
       "      <td>3</td>\n",
       "      <td>49500.0</td>\n",
       "      <td>3060</td>\n",
       "      <td>3</td>\n",
       "      <td>1</td>\n",
       "      <td>1</td>\n",
       "      <td>yes</td>\n",
       "      <td>no</td>\n",
       "      <td>no</td>\n",
       "      <td>no</td>\n",
       "      <td>no</td>\n",
       "      <td>0</td>\n",
       "      <td>no</td>\n",
       "    </tr>\n",
       "    <tr>\n",
       "      <th>3</th>\n",
       "      <td>4</td>\n",
       "      <td>60500.0</td>\n",
       "      <td>6650</td>\n",
       "      <td>3</td>\n",
       "      <td>1</td>\n",
       "      <td>2</td>\n",
       "      <td>yes</td>\n",
       "      <td>yes</td>\n",
       "      <td>no</td>\n",
       "      <td>no</td>\n",
       "      <td>no</td>\n",
       "      <td>0</td>\n",
       "      <td>no</td>\n",
       "    </tr>\n",
       "    <tr>\n",
       "      <th>4</th>\n",
       "      <td>5</td>\n",
       "      <td>61000.0</td>\n",
       "      <td>6360</td>\n",
       "      <td>2</td>\n",
       "      <td>1</td>\n",
       "      <td>1</td>\n",
       "      <td>yes</td>\n",
       "      <td>no</td>\n",
       "      <td>no</td>\n",
       "      <td>no</td>\n",
       "      <td>no</td>\n",
       "      <td>0</td>\n",
       "      <td>no</td>\n",
       "    </tr>\n",
       "  </tbody>\n",
       "</table>\n",
       "</div>"
      ],
      "text/plain": [
       "   Unnamed: 0    price  lotsize  bedrooms  bathrms  stories driveway recroom  \\\n",
       "0           1  42000.0     5850         3        1        2      yes      no   \n",
       "1           2  38500.0     4000         2        1        1      yes      no   \n",
       "2           3  49500.0     3060         3        1        1      yes      no   \n",
       "3           4  60500.0     6650         3        1        2      yes     yes   \n",
       "4           5  61000.0     6360         2        1        1      yes      no   \n",
       "\n",
       "  fullbase gashw airco  garagepl prefarea  \n",
       "0      yes    no    no         1       no  \n",
       "1       no    no    no         0       no  \n",
       "2       no    no    no         0       no  \n",
       "3       no    no    no         0       no  \n",
       "4       no    no    no         0       no  "
      ]
     },
     "execution_count": 1,
     "metadata": {},
     "output_type": "execute_result"
    }
   ],
   "source": [
    "import pandas as pd\n",
    "df=pd.read_csv(\"Housing.csv\")\n",
    "df.head()"
   ]
  },
  {
   "cell_type": "markdown",
   "metadata": {},
   "source": [
    "### Checking for the varaible types "
   ]
  },
  {
   "cell_type": "code",
   "execution_count": 2,
   "metadata": {},
   "outputs": [
    {
     "name": "stdout",
     "output_type": "stream",
     "text": [
      "<class 'pandas.core.frame.DataFrame'>\n",
      "RangeIndex: 546 entries, 0 to 545\n",
      "Data columns (total 13 columns):\n",
      " #   Column      Non-Null Count  Dtype  \n",
      "---  ------      --------------  -----  \n",
      " 0   Unnamed: 0  546 non-null    int64  \n",
      " 1   price       546 non-null    float64\n",
      " 2   lotsize     546 non-null    int64  \n",
      " 3   bedrooms    546 non-null    int64  \n",
      " 4   bathrms     546 non-null    int64  \n",
      " 5   stories     546 non-null    int64  \n",
      " 6   driveway    546 non-null    object \n",
      " 7   recroom     546 non-null    object \n",
      " 8   fullbase    546 non-null    object \n",
      " 9   gashw       546 non-null    object \n",
      " 10  airco       546 non-null    object \n",
      " 11  garagepl    546 non-null    int64  \n",
      " 12  prefarea    546 non-null    object \n",
      "dtypes: float64(1), int64(6), object(6)\n",
      "memory usage: 55.6+ KB\n"
     ]
    }
   ],
   "source": [
    "df.info()"
   ]
  },
  {
   "cell_type": "markdown",
   "metadata": {},
   "source": [
    "### Checking for Null Values"
   ]
  },
  {
   "cell_type": "code",
   "execution_count": 3,
   "metadata": {},
   "outputs": [
    {
     "data": {
      "text/plain": [
       "Unnamed: 0    0\n",
       "price         0\n",
       "lotsize       0\n",
       "bedrooms      0\n",
       "bathrms       0\n",
       "stories       0\n",
       "driveway      0\n",
       "recroom       0\n",
       "fullbase      0\n",
       "gashw         0\n",
       "airco         0\n",
       "garagepl      0\n",
       "prefarea      0\n",
       "dtype: int64"
      ]
     },
     "execution_count": 3,
     "metadata": {},
     "output_type": "execute_result"
    }
   ],
   "source": [
    "df.isna().sum()"
   ]
  },
  {
   "cell_type": "markdown",
   "metadata": {},
   "source": [
    "### Treating Categorical Variables"
   ]
  },
  {
   "cell_type": "code",
   "execution_count": 4,
   "metadata": {},
   "outputs": [],
   "source": [
    "from sklearn.preprocessing import LabelEncoder"
   ]
  },
  {
   "cell_type": "code",
   "execution_count": 5,
   "metadata": {},
   "outputs": [],
   "source": [
    "le=LabelEncoder()\n",
    "cols=[\"driveway\",\"recroom\",\"fullbase\",\"gashw\",\"airco\",\"prefarea\"]\n",
    "for f in cols:\n",
    "    df[f]=le.fit_transform(df[f])"
   ]
  },
  {
   "cell_type": "code",
   "execution_count": 6,
   "metadata": {},
   "outputs": [
    {
     "data": {
      "text/html": [
       "<div>\n",
       "<style scoped>\n",
       "    .dataframe tbody tr th:only-of-type {\n",
       "        vertical-align: middle;\n",
       "    }\n",
       "\n",
       "    .dataframe tbody tr th {\n",
       "        vertical-align: top;\n",
       "    }\n",
       "\n",
       "    .dataframe thead th {\n",
       "        text-align: right;\n",
       "    }\n",
       "</style>\n",
       "<table border=\"1\" class=\"dataframe\">\n",
       "  <thead>\n",
       "    <tr style=\"text-align: right;\">\n",
       "      <th></th>\n",
       "      <th>Unnamed: 0</th>\n",
       "      <th>price</th>\n",
       "      <th>lotsize</th>\n",
       "      <th>bedrooms</th>\n",
       "      <th>bathrms</th>\n",
       "      <th>stories</th>\n",
       "      <th>driveway</th>\n",
       "      <th>recroom</th>\n",
       "      <th>fullbase</th>\n",
       "      <th>gashw</th>\n",
       "      <th>airco</th>\n",
       "      <th>garagepl</th>\n",
       "      <th>prefarea</th>\n",
       "    </tr>\n",
       "  </thead>\n",
       "  <tbody>\n",
       "    <tr>\n",
       "      <th>0</th>\n",
       "      <td>1</td>\n",
       "      <td>42000.0</td>\n",
       "      <td>5850</td>\n",
       "      <td>3</td>\n",
       "      <td>1</td>\n",
       "      <td>2</td>\n",
       "      <td>1</td>\n",
       "      <td>0</td>\n",
       "      <td>1</td>\n",
       "      <td>0</td>\n",
       "      <td>0</td>\n",
       "      <td>1</td>\n",
       "      <td>0</td>\n",
       "    </tr>\n",
       "    <tr>\n",
       "      <th>1</th>\n",
       "      <td>2</td>\n",
       "      <td>38500.0</td>\n",
       "      <td>4000</td>\n",
       "      <td>2</td>\n",
       "      <td>1</td>\n",
       "      <td>1</td>\n",
       "      <td>1</td>\n",
       "      <td>0</td>\n",
       "      <td>0</td>\n",
       "      <td>0</td>\n",
       "      <td>0</td>\n",
       "      <td>0</td>\n",
       "      <td>0</td>\n",
       "    </tr>\n",
       "    <tr>\n",
       "      <th>2</th>\n",
       "      <td>3</td>\n",
       "      <td>49500.0</td>\n",
       "      <td>3060</td>\n",
       "      <td>3</td>\n",
       "      <td>1</td>\n",
       "      <td>1</td>\n",
       "      <td>1</td>\n",
       "      <td>0</td>\n",
       "      <td>0</td>\n",
       "      <td>0</td>\n",
       "      <td>0</td>\n",
       "      <td>0</td>\n",
       "      <td>0</td>\n",
       "    </tr>\n",
       "    <tr>\n",
       "      <th>3</th>\n",
       "      <td>4</td>\n",
       "      <td>60500.0</td>\n",
       "      <td>6650</td>\n",
       "      <td>3</td>\n",
       "      <td>1</td>\n",
       "      <td>2</td>\n",
       "      <td>1</td>\n",
       "      <td>1</td>\n",
       "      <td>0</td>\n",
       "      <td>0</td>\n",
       "      <td>0</td>\n",
       "      <td>0</td>\n",
       "      <td>0</td>\n",
       "    </tr>\n",
       "    <tr>\n",
       "      <th>4</th>\n",
       "      <td>5</td>\n",
       "      <td>61000.0</td>\n",
       "      <td>6360</td>\n",
       "      <td>2</td>\n",
       "      <td>1</td>\n",
       "      <td>1</td>\n",
       "      <td>1</td>\n",
       "      <td>0</td>\n",
       "      <td>0</td>\n",
       "      <td>0</td>\n",
       "      <td>0</td>\n",
       "      <td>0</td>\n",
       "      <td>0</td>\n",
       "    </tr>\n",
       "  </tbody>\n",
       "</table>\n",
       "</div>"
      ],
      "text/plain": [
       "   Unnamed: 0    price  lotsize  bedrooms  bathrms  stories  driveway  \\\n",
       "0           1  42000.0     5850         3        1        2         1   \n",
       "1           2  38500.0     4000         2        1        1         1   \n",
       "2           3  49500.0     3060         3        1        1         1   \n",
       "3           4  60500.0     6650         3        1        2         1   \n",
       "4           5  61000.0     6360         2        1        1         1   \n",
       "\n",
       "   recroom  fullbase  gashw  airco  garagepl  prefarea  \n",
       "0        0         1      0      0         1         0  \n",
       "1        0         0      0      0         0         0  \n",
       "2        0         0      0      0         0         0  \n",
       "3        1         0      0      0         0         0  \n",
       "4        0         0      0      0         0         0  "
      ]
     },
     "execution_count": 6,
     "metadata": {},
     "output_type": "execute_result"
    }
   ],
   "source": [
    "df.head()"
   ]
  },
  {
   "cell_type": "markdown",
   "metadata": {},
   "source": [
    "##  Simple Linear Regression"
   ]
  },
  {
   "cell_type": "markdown",
   "metadata": {},
   "source": [
    "### Determining X and Y for SLR"
   ]
  },
  {
   "cell_type": "code",
   "execution_count": 7,
   "metadata": {},
   "outputs": [
    {
     "data": {
      "text/html": [
       "<div>\n",
       "<style scoped>\n",
       "    .dataframe tbody tr th:only-of-type {\n",
       "        vertical-align: middle;\n",
       "    }\n",
       "\n",
       "    .dataframe tbody tr th {\n",
       "        vertical-align: top;\n",
       "    }\n",
       "\n",
       "    .dataframe thead th {\n",
       "        text-align: right;\n",
       "    }\n",
       "</style>\n",
       "<table border=\"1\" class=\"dataframe\">\n",
       "  <thead>\n",
       "    <tr style=\"text-align: right;\">\n",
       "      <th></th>\n",
       "      <th>Unnamed: 0</th>\n",
       "      <th>price</th>\n",
       "      <th>lotsize</th>\n",
       "      <th>bedrooms</th>\n",
       "      <th>bathrms</th>\n",
       "      <th>stories</th>\n",
       "      <th>driveway</th>\n",
       "      <th>recroom</th>\n",
       "      <th>fullbase</th>\n",
       "      <th>gashw</th>\n",
       "      <th>airco</th>\n",
       "      <th>garagepl</th>\n",
       "      <th>prefarea</th>\n",
       "    </tr>\n",
       "  </thead>\n",
       "  <tbody>\n",
       "    <tr>\n",
       "      <th>Unnamed: 0</th>\n",
       "      <td>1.000000</td>\n",
       "      <td>0.376007</td>\n",
       "      <td>0.374338</td>\n",
       "      <td>0.114219</td>\n",
       "      <td>0.108395</td>\n",
       "      <td>0.231427</td>\n",
       "      <td>0.314014</td>\n",
       "      <td>0.096721</td>\n",
       "      <td>-0.002034</td>\n",
       "      <td>-0.033494</td>\n",
       "      <td>0.157111</td>\n",
       "      <td>0.125326</td>\n",
       "      <td>0.519994</td>\n",
       "    </tr>\n",
       "    <tr>\n",
       "      <th>price</th>\n",
       "      <td>0.376007</td>\n",
       "      <td>1.000000</td>\n",
       "      <td>0.535796</td>\n",
       "      <td>0.366447</td>\n",
       "      <td>0.516719</td>\n",
       "      <td>0.421190</td>\n",
       "      <td>0.297167</td>\n",
       "      <td>0.254960</td>\n",
       "      <td>0.186218</td>\n",
       "      <td>0.092837</td>\n",
       "      <td>0.453347</td>\n",
       "      <td>0.383302</td>\n",
       "      <td>0.329074</td>\n",
       "    </tr>\n",
       "    <tr>\n",
       "      <th>lotsize</th>\n",
       "      <td>0.374338</td>\n",
       "      <td>0.535796</td>\n",
       "      <td>1.000000</td>\n",
       "      <td>0.151851</td>\n",
       "      <td>0.193833</td>\n",
       "      <td>0.083675</td>\n",
       "      <td>0.288778</td>\n",
       "      <td>0.140327</td>\n",
       "      <td>0.047487</td>\n",
       "      <td>-0.009201</td>\n",
       "      <td>0.221765</td>\n",
       "      <td>0.352872</td>\n",
       "      <td>0.234782</td>\n",
       "    </tr>\n",
       "    <tr>\n",
       "      <th>bedrooms</th>\n",
       "      <td>0.114219</td>\n",
       "      <td>0.366447</td>\n",
       "      <td>0.151851</td>\n",
       "      <td>1.000000</td>\n",
       "      <td>0.373769</td>\n",
       "      <td>0.407974</td>\n",
       "      <td>-0.011996</td>\n",
       "      <td>0.080492</td>\n",
       "      <td>0.097201</td>\n",
       "      <td>0.046028</td>\n",
       "      <td>0.160412</td>\n",
       "      <td>0.139117</td>\n",
       "      <td>0.078953</td>\n",
       "    </tr>\n",
       "    <tr>\n",
       "      <th>bathrms</th>\n",
       "      <td>0.108395</td>\n",
       "      <td>0.516719</td>\n",
       "      <td>0.193833</td>\n",
       "      <td>0.373769</td>\n",
       "      <td>1.000000</td>\n",
       "      <td>0.324066</td>\n",
       "      <td>0.041955</td>\n",
       "      <td>0.126892</td>\n",
       "      <td>0.102791</td>\n",
       "      <td>0.067365</td>\n",
       "      <td>0.184955</td>\n",
       "      <td>0.178178</td>\n",
       "      <td>0.064013</td>\n",
       "    </tr>\n",
       "    <tr>\n",
       "      <th>stories</th>\n",
       "      <td>0.231427</td>\n",
       "      <td>0.421190</td>\n",
       "      <td>0.083675</td>\n",
       "      <td>0.407974</td>\n",
       "      <td>0.324066</td>\n",
       "      <td>1.000000</td>\n",
       "      <td>0.122499</td>\n",
       "      <td>0.042281</td>\n",
       "      <td>-0.173860</td>\n",
       "      <td>0.018261</td>\n",
       "      <td>0.296216</td>\n",
       "      <td>0.043412</td>\n",
       "      <td>0.042940</td>\n",
       "    </tr>\n",
       "    <tr>\n",
       "      <th>driveway</th>\n",
       "      <td>0.314014</td>\n",
       "      <td>0.297167</td>\n",
       "      <td>0.288778</td>\n",
       "      <td>-0.011996</td>\n",
       "      <td>0.041955</td>\n",
       "      <td>0.122499</td>\n",
       "      <td>1.000000</td>\n",
       "      <td>0.091959</td>\n",
       "      <td>0.043428</td>\n",
       "      <td>-0.011942</td>\n",
       "      <td>0.106290</td>\n",
       "      <td>0.203682</td>\n",
       "      <td>0.199378</td>\n",
       "    </tr>\n",
       "    <tr>\n",
       "      <th>recroom</th>\n",
       "      <td>0.096721</td>\n",
       "      <td>0.254960</td>\n",
       "      <td>0.140327</td>\n",
       "      <td>0.080492</td>\n",
       "      <td>0.126892</td>\n",
       "      <td>0.042281</td>\n",
       "      <td>0.091959</td>\n",
       "      <td>1.000000</td>\n",
       "      <td>0.372434</td>\n",
       "      <td>-0.010119</td>\n",
       "      <td>0.136626</td>\n",
       "      <td>0.038122</td>\n",
       "      <td>0.161292</td>\n",
       "    </tr>\n",
       "    <tr>\n",
       "      <th>fullbase</th>\n",
       "      <td>-0.002034</td>\n",
       "      <td>0.186218</td>\n",
       "      <td>0.047487</td>\n",
       "      <td>0.097201</td>\n",
       "      <td>0.102791</td>\n",
       "      <td>-0.173860</td>\n",
       "      <td>0.043428</td>\n",
       "      <td>0.372434</td>\n",
       "      <td>1.000000</td>\n",
       "      <td>0.004677</td>\n",
       "      <td>0.045248</td>\n",
       "      <td>0.052524</td>\n",
       "      <td>0.228651</td>\n",
       "    </tr>\n",
       "    <tr>\n",
       "      <th>gashw</th>\n",
       "      <td>-0.033494</td>\n",
       "      <td>0.092837</td>\n",
       "      <td>-0.009201</td>\n",
       "      <td>0.046028</td>\n",
       "      <td>0.067365</td>\n",
       "      <td>0.018261</td>\n",
       "      <td>-0.011942</td>\n",
       "      <td>-0.010119</td>\n",
       "      <td>0.004677</td>\n",
       "      <td>1.000000</td>\n",
       "      <td>-0.130350</td>\n",
       "      <td>0.068144</td>\n",
       "      <td>-0.059170</td>\n",
       "    </tr>\n",
       "    <tr>\n",
       "      <th>airco</th>\n",
       "      <td>0.157111</td>\n",
       "      <td>0.453347</td>\n",
       "      <td>0.221765</td>\n",
       "      <td>0.160412</td>\n",
       "      <td>0.184955</td>\n",
       "      <td>0.296216</td>\n",
       "      <td>0.106290</td>\n",
       "      <td>0.136626</td>\n",
       "      <td>0.045248</td>\n",
       "      <td>-0.130350</td>\n",
       "      <td>1.000000</td>\n",
       "      <td>0.156596</td>\n",
       "      <td>0.115626</td>\n",
       "    </tr>\n",
       "    <tr>\n",
       "      <th>garagepl</th>\n",
       "      <td>0.125326</td>\n",
       "      <td>0.383302</td>\n",
       "      <td>0.352872</td>\n",
       "      <td>0.139117</td>\n",
       "      <td>0.178178</td>\n",
       "      <td>0.043412</td>\n",
       "      <td>0.203682</td>\n",
       "      <td>0.038122</td>\n",
       "      <td>0.052524</td>\n",
       "      <td>0.068144</td>\n",
       "      <td>0.156596</td>\n",
       "      <td>1.000000</td>\n",
       "      <td>0.092364</td>\n",
       "    </tr>\n",
       "    <tr>\n",
       "      <th>prefarea</th>\n",
       "      <td>0.519994</td>\n",
       "      <td>0.329074</td>\n",
       "      <td>0.234782</td>\n",
       "      <td>0.078953</td>\n",
       "      <td>0.064013</td>\n",
       "      <td>0.042940</td>\n",
       "      <td>0.199378</td>\n",
       "      <td>0.161292</td>\n",
       "      <td>0.228651</td>\n",
       "      <td>-0.059170</td>\n",
       "      <td>0.115626</td>\n",
       "      <td>0.092364</td>\n",
       "      <td>1.000000</td>\n",
       "    </tr>\n",
       "  </tbody>\n",
       "</table>\n",
       "</div>"
      ],
      "text/plain": [
       "            Unnamed: 0     price   lotsize  bedrooms   bathrms   stories  \\\n",
       "Unnamed: 0    1.000000  0.376007  0.374338  0.114219  0.108395  0.231427   \n",
       "price         0.376007  1.000000  0.535796  0.366447  0.516719  0.421190   \n",
       "lotsize       0.374338  0.535796  1.000000  0.151851  0.193833  0.083675   \n",
       "bedrooms      0.114219  0.366447  0.151851  1.000000  0.373769  0.407974   \n",
       "bathrms       0.108395  0.516719  0.193833  0.373769  1.000000  0.324066   \n",
       "stories       0.231427  0.421190  0.083675  0.407974  0.324066  1.000000   \n",
       "driveway      0.314014  0.297167  0.288778 -0.011996  0.041955  0.122499   \n",
       "recroom       0.096721  0.254960  0.140327  0.080492  0.126892  0.042281   \n",
       "fullbase     -0.002034  0.186218  0.047487  0.097201  0.102791 -0.173860   \n",
       "gashw        -0.033494  0.092837 -0.009201  0.046028  0.067365  0.018261   \n",
       "airco         0.157111  0.453347  0.221765  0.160412  0.184955  0.296216   \n",
       "garagepl      0.125326  0.383302  0.352872  0.139117  0.178178  0.043412   \n",
       "prefarea      0.519994  0.329074  0.234782  0.078953  0.064013  0.042940   \n",
       "\n",
       "            driveway   recroom  fullbase     gashw     airco  garagepl  \\\n",
       "Unnamed: 0  0.314014  0.096721 -0.002034 -0.033494  0.157111  0.125326   \n",
       "price       0.297167  0.254960  0.186218  0.092837  0.453347  0.383302   \n",
       "lotsize     0.288778  0.140327  0.047487 -0.009201  0.221765  0.352872   \n",
       "bedrooms   -0.011996  0.080492  0.097201  0.046028  0.160412  0.139117   \n",
       "bathrms     0.041955  0.126892  0.102791  0.067365  0.184955  0.178178   \n",
       "stories     0.122499  0.042281 -0.173860  0.018261  0.296216  0.043412   \n",
       "driveway    1.000000  0.091959  0.043428 -0.011942  0.106290  0.203682   \n",
       "recroom     0.091959  1.000000  0.372434 -0.010119  0.136626  0.038122   \n",
       "fullbase    0.043428  0.372434  1.000000  0.004677  0.045248  0.052524   \n",
       "gashw      -0.011942 -0.010119  0.004677  1.000000 -0.130350  0.068144   \n",
       "airco       0.106290  0.136626  0.045248 -0.130350  1.000000  0.156596   \n",
       "garagepl    0.203682  0.038122  0.052524  0.068144  0.156596  1.000000   \n",
       "prefarea    0.199378  0.161292  0.228651 -0.059170  0.115626  0.092364   \n",
       "\n",
       "            prefarea  \n",
       "Unnamed: 0  0.519994  \n",
       "price       0.329074  \n",
       "lotsize     0.234782  \n",
       "bedrooms    0.078953  \n",
       "bathrms     0.064013  \n",
       "stories     0.042940  \n",
       "driveway    0.199378  \n",
       "recroom     0.161292  \n",
       "fullbase    0.228651  \n",
       "gashw      -0.059170  \n",
       "airco       0.115626  \n",
       "garagepl    0.092364  \n",
       "prefarea    1.000000  "
      ]
     },
     "execution_count": 7,
     "metadata": {},
     "output_type": "execute_result"
    }
   ],
   "source": [
    "df.corr()"
   ]
  },
  {
   "cell_type": "code",
   "execution_count": 8,
   "metadata": {},
   "outputs": [],
   "source": [
    "x=df[[\"lotsize\"]]\n",
    "y=df.price"
   ]
  },
  {
   "cell_type": "markdown",
   "metadata": {},
   "source": [
    "### Dividing into Train and Test"
   ]
  },
  {
   "cell_type": "code",
   "execution_count": 9,
   "metadata": {},
   "outputs": [],
   "source": [
    "from sklearn.model_selection import train_test_split\n",
    "xtrain,xtest,ytrain,ytest=train_test_split(x,y,test_size=0.2,random_state=1,shuffle=True)"
   ]
  },
  {
   "cell_type": "markdown",
   "metadata": {},
   "source": [
    "### Building a Simple linear Regression Model"
   ]
  },
  {
   "cell_type": "code",
   "execution_count": 10,
   "metadata": {},
   "outputs": [
    {
     "data": {
      "text/plain": [
       "LinearRegression()"
      ]
     },
     "execution_count": 10,
     "metadata": {},
     "output_type": "execute_result"
    }
   ],
   "source": [
    "from sklearn.linear_model import LinearRegression\n",
    "slr=LinearRegression()\n",
    "slr.fit(xtrain,ytrain)"
   ]
  },
  {
   "cell_type": "code",
   "execution_count": 11,
   "metadata": {},
   "outputs": [
    {
     "data": {
      "text/plain": [
       "array([6.58783799])"
      ]
     },
     "execution_count": 11,
     "metadata": {},
     "output_type": "execute_result"
    }
   ],
   "source": [
    "slr.coef_"
   ]
  },
  {
   "cell_type": "code",
   "execution_count": 12,
   "metadata": {},
   "outputs": [
    {
     "data": {
      "text/plain": [
       "33713.50794419724"
      ]
     },
     "execution_count": 12,
     "metadata": {},
     "output_type": "execute_result"
    }
   ],
   "source": [
    "slr.intercept_"
   ]
  },
  {
   "cell_type": "markdown",
   "metadata": {},
   "source": [
    "### Evaluation"
   ]
  },
  {
   "cell_type": "code",
   "execution_count": 13,
   "metadata": {},
   "outputs": [],
   "source": [
    "ypred=slr.predict(xtest)"
   ]
  },
  {
   "cell_type": "code",
   "execution_count": 14,
   "metadata": {},
   "outputs": [
    {
     "data": {
      "text/plain": [
       "array([ 62370.60319904,  73635.80616129,  56441.54900838,  86284.45510136,\n",
       "        65862.15733354,  74913.84673128,  57429.72470683,  54069.92733212,\n",
       "        69287.83308814,  77193.23867568,  52620.6029744 ,  99328.3743208 ,\n",
       "        49721.95425897,  81936.48202821,  73240.53588191,  72252.36018347,\n",
       "        63358.77889748,  48042.05557162, 120672.96940717, 101172.9689579 ,\n",
       "        79828.37387153,  92180.57010207, 101963.50951665,  60064.85990267,\n",
       "        64320.60324397,  52884.11649399,  60591.88694184,  57956.751746  ,\n",
       "        69946.6168871 ,  81350.16444713,  63490.53565728,  59076.68420423,\n",
       "        93004.04985077,  56902.69766766,  46559.79202395,  47844.42043193,\n",
       "        63424.65727738,  65993.91409333,  56243.91386869,  52159.45431513,\n",
       "        73240.53588191,  62172.96805935,  71264.18448503,  64017.56269645,\n",
       "        75612.15755818,  47844.42043193,  89051.347057  ,  56770.94090786,\n",
       "        56507.42738828,  56639.18414807,  77193.23867568,  57693.23822641,\n",
       "        65433.94786421,  73240.53588191,  55216.21114231,  75612.15755818,\n",
       "        69946.6168871 ,  61909.45453977,  97398.13778985,  56441.54900838,\n",
       "        75612.15755818,  60367.9004502 ,  56770.94090786,  60328.37342226,\n",
       "        56639.18414807,  53477.02191305,  60558.9477519 ,  69946.6168871 ,\n",
       "        75612.15755818,  77193.23867568,  76797.96839631,  62699.99509852,\n",
       "       109210.13130523,  78181.41437413,  76699.15082646,  50183.10291825,\n",
       "        60855.40046143,  59854.04908701,  75612.15755818,  57627.35984651,\n",
       "        73504.0494015 ,  71593.57638451,  77193.23867568,  59972.63017082,\n",
       "        73240.53588191,  53477.02191305,  57824.9949862 ,  60064.85990267,\n",
       "        73240.53588191,  54662.83275119,  56112.1571089 ,  57429.72470683,\n",
       "        65335.13029437, 120672.96940717,  64281.07621603,  59076.68420423,\n",
       "        66784.45465209,  61118.91398101,  69024.31956856,  63358.77889748,\n",
       "        69287.83308814,  59076.68420423,  67970.26549022,  57429.72470683,\n",
       "        78774.31979319,  56902.69766766,  82595.26582717,  66916.21141188,\n",
       "        47844.42043193,  72107.4277477 ])"
      ]
     },
     "execution_count": 14,
     "metadata": {},
     "output_type": "execute_result"
    }
   ],
   "source": [
    "ypred"
   ]
  },
  {
   "cell_type": "code",
   "execution_count": 15,
   "metadata": {},
   "outputs": [
    {
     "data": {
      "text/plain": [
       "0.2838357590291908"
      ]
     },
     "execution_count": 15,
     "metadata": {},
     "output_type": "execute_result"
    }
   ],
   "source": [
    "from sklearn.metrics import mean_absolute_error,r2_score\n",
    "r2_score(ytest,ypred)"
   ]
  },
  {
   "cell_type": "markdown",
   "metadata": {},
   "source": [
    "### Visualizing the Result"
   ]
  },
  {
   "cell_type": "code",
   "execution_count": 16,
   "metadata": {},
   "outputs": [
    {
     "data": {
      "image/png": "[encoded data removed]",
      "text/plain": [
       "<Figure size 432x288 with 1 Axes>"
      ]
     },
     "metadata": {
      "needs_background": "light"
     },
     "output_type": "display_data"
    }
   ],
   "source": [
    "import matplotlib.pyplot as plt\n",
    "plt.scatter(xtest,ytest)\n",
    "plt.plot(xtest,ypred,color=\"red\")\n",
    "plt.show()"
   ]
  },
  {
   "cell_type": "markdown",
   "metadata": {},
   "source": [
    "### Prediction of House Price for given lotsize"
   ]
  },
  {
   "cell_type": "code",
   "execution_count": 17,
   "metadata": {},
   "outputs": [
    {
     "data": {
      "text/plain": [
       "array([66652.69789229])"
      ]
     },
     "execution_count": 17,
     "metadata": {},
     "output_type": "execute_result"
    }
   ],
   "source": [
    "import numpy as np\n",
    "xnew=np.array([5000]).reshape(1, -1)\n",
    "slr.predict(xnew)"
   ]
  },
  {
   "cell_type": "markdown",
   "metadata": {},
   "source": [
    "## Mulitple Linear Regression"
   ]
  },
  {
   "cell_type": "markdown",
   "metadata": {},
   "source": [
    "### Determining X and Y Values for MLR"
   ]
  },
  {
   "cell_type": "code",
   "execution_count": 18,
   "metadata": {},
   "outputs": [],
   "source": [
    "x=df[[\"lotsize\",\"bathrms\"]]\n",
    "y=df.price"
   ]
  },
  {
   "cell_type": "markdown",
   "metadata": {},
   "source": [
    "### Splitting of Train and Test"
   ]
  },
  {
   "cell_type": "code",
   "execution_count": 19,
   "metadata": {},
   "outputs": [],
   "source": [
    "from sklearn.model_selection import train_test_split\n",
    "xtrain,xtest,ytrain,ytest=train_test_split(x,y,test_size=0.2,random_state=1,shuffle=True)"
   ]
  },
  {
   "cell_type": "markdown",
   "metadata": {},
   "source": [
    "### Building the Multiple linear Regression model"
   ]
  },
  {
   "cell_type": "code",
   "execution_count": 20,
   "metadata": {},
   "outputs": [
    {
     "name": "stdout",
     "output_type": "stream",
     "text": [
      "[5.44960793e+00 2.24254086e+04]\n",
      "10559.055210013837\n"
     ]
    }
   ],
   "source": [
    "from sklearn.linear_model import LinearRegression\n",
    "mlr=LinearRegression()\n",
    "mlr.fit(xtrain,ytrain)\n",
    "print(mlr.coef_)\n",
    "print(mlr.intercept_)"
   ]
  },
  {
   "cell_type": "markdown",
   "metadata": {},
   "source": [
    "### Evaluation"
   ]
  },
  {
   "cell_type": "code",
   "execution_count": 21,
   "metadata": {},
   "outputs": [
    {
     "data": {
      "text/plain": [
       "0.44270381147590787"
      ]
     },
     "execution_count": 21,
     "metadata": {},
     "output_type": "execute_result"
    }
   ],
   "source": [
    "ypred=mlr.predict(xtest)\n",
    "from sklearn.metrics import mean_absolute_error,r2_score\n",
    "r2_score(ytest,ypred)"
   ]
  },
  {
   "cell_type": "markdown",
   "metadata": {},
   "source": [
    "### Prediction of House Price for new data of lotsize and bathrms"
   ]
  },
  {
   "cell_type": "code",
   "execution_count": 22,
   "metadata": {},
   "outputs": [
    {
     "data": {
      "text/plain": [
       "array([82657.91198634])"
      ]
     },
     "execution_count": 22,
     "metadata": {},
     "output_type": "execute_result"
    }
   ],
   "source": [
    "xnew=np.array([5000,2]).reshape(1, -1)\n",
    "mlr.predict(xnew)"
   ]
  },
  {
   "cell_type": "code",
   "execution_count": null,
   "metadata": {},
   "outputs": [],
   "source": []
  }
 ],
 "metadata": {
  "kernelspec": {
   "display_name": "Python 3",
   "language": "python",
   "name": "python3"
  },
  "language_info": {
   "codemirror_mode": {
    "name": "ipython",
    "version": 3
   },
   "file_extension": ".py",
   "mimetype": "text/x-python",
   "name": "python",
   "nbconvert_exporter": "python",
   "pygments_lexer": "ipython3",
   "version": "3.8.5"
  }
 },
 "nbformat": 4,
 "nbformat_minor": 5
}
