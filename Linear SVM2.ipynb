{
 "cells": [
  {
   "cell_type": "code",
   "execution_count": 1,
   "metadata": {},
   "outputs": [],
   "source": [
    "import pandas as pd\n",
    "import numpy as np"
   ]
  },
  {
   "cell_type": "code",
   "execution_count": 2,
   "metadata": {},
   "outputs": [],
   "source": [
    "df=pd.read_csv('BMI.csv')"
   ]
  },
  {
   "cell_type": "code",
   "execution_count": 3,
   "metadata": {},
   "outputs": [
    {
     "data": {
      "text/html": [
       "<div>\n",
       "<style scoped>\n",
       "    .dataframe tbody tr th:only-of-type {\n",
       "        vertical-align: middle;\n",
       "    }\n",
       "\n",
       "    .dataframe tbody tr th {\n",
       "        vertical-align: top;\n",
       "    }\n",
       "\n",
       "    .dataframe thead th {\n",
       "        text-align: right;\n",
       "    }\n",
       "</style>\n",
       "<table border=\"1\" class=\"dataframe\">\n",
       "  <thead>\n",
       "    <tr style=\"text-align: right;\">\n",
       "      <th></th>\n",
       "      <th>Gender</th>\n",
       "      <th>Height</th>\n",
       "      <th>Weight</th>\n",
       "      <th>Index</th>\n",
       "    </tr>\n",
       "  </thead>\n",
       "  <tbody>\n",
       "    <tr>\n",
       "      <th>0</th>\n",
       "      <td>Male</td>\n",
       "      <td>174</td>\n",
       "      <td>96</td>\n",
       "      <td>4</td>\n",
       "    </tr>\n",
       "    <tr>\n",
       "      <th>1</th>\n",
       "      <td>Male</td>\n",
       "      <td>189</td>\n",
       "      <td>87</td>\n",
       "      <td>2</td>\n",
       "    </tr>\n",
       "    <tr>\n",
       "      <th>2</th>\n",
       "      <td>Female</td>\n",
       "      <td>185</td>\n",
       "      <td>110</td>\n",
       "      <td>4</td>\n",
       "    </tr>\n",
       "    <tr>\n",
       "      <th>3</th>\n",
       "      <td>Female</td>\n",
       "      <td>195</td>\n",
       "      <td>104</td>\n",
       "      <td>3</td>\n",
       "    </tr>\n",
       "    <tr>\n",
       "      <th>4</th>\n",
       "      <td>Male</td>\n",
       "      <td>149</td>\n",
       "      <td>61</td>\n",
       "      <td>3</td>\n",
       "    </tr>\n",
       "  </tbody>\n",
       "</table>\n",
       "</div>"
      ],
      "text/plain": [
       "   Gender  Height  Weight  Index\n",
       "0    Male     174      96      4\n",
       "1    Male     189      87      2\n",
       "2  Female     185     110      4\n",
       "3  Female     195     104      3\n",
       "4    Male     149      61      3"
      ]
     },
     "execution_count": 3,
     "metadata": {},
     "output_type": "execute_result"
    }
   ],
   "source": [
    "df.head()"
   ]
  },
  {
   "cell_type": "code",
   "execution_count": 4,
   "metadata": {},
   "outputs": [
    {
     "data": {
      "text/html": [
       "<div>\n",
       "<style scoped>\n",
       "    .dataframe tbody tr th:only-of-type {\n",
       "        vertical-align: middle;\n",
       "    }\n",
       "\n",
       "    .dataframe tbody tr th {\n",
       "        vertical-align: top;\n",
       "    }\n",
       "\n",
       "    .dataframe thead th {\n",
       "        text-align: right;\n",
       "    }\n",
       "</style>\n",
       "<table border=\"1\" class=\"dataframe\">\n",
       "  <thead>\n",
       "    <tr style=\"text-align: right;\">\n",
       "      <th></th>\n",
       "      <th>Gender</th>\n",
       "      <th>Height</th>\n",
       "      <th>Weight</th>\n",
       "      <th>Index</th>\n",
       "    </tr>\n",
       "  </thead>\n",
       "  <tbody>\n",
       "    <tr>\n",
       "      <th>0</th>\n",
       "      <td>1</td>\n",
       "      <td>174</td>\n",
       "      <td>96</td>\n",
       "      <td>4</td>\n",
       "    </tr>\n",
       "    <tr>\n",
       "      <th>1</th>\n",
       "      <td>1</td>\n",
       "      <td>189</td>\n",
       "      <td>87</td>\n",
       "      <td>2</td>\n",
       "    </tr>\n",
       "    <tr>\n",
       "      <th>2</th>\n",
       "      <td>0</td>\n",
       "      <td>185</td>\n",
       "      <td>110</td>\n",
       "      <td>4</td>\n",
       "    </tr>\n",
       "    <tr>\n",
       "      <th>3</th>\n",
       "      <td>0</td>\n",
       "      <td>195</td>\n",
       "      <td>104</td>\n",
       "      <td>3</td>\n",
       "    </tr>\n",
       "    <tr>\n",
       "      <th>4</th>\n",
       "      <td>1</td>\n",
       "      <td>149</td>\n",
       "      <td>61</td>\n",
       "      <td>3</td>\n",
       "    </tr>\n",
       "  </tbody>\n",
       "</table>\n",
       "</div>"
      ],
      "text/plain": [
       "   Gender  Height  Weight  Index\n",
       "0       1     174      96      4\n",
       "1       1     189      87      2\n",
       "2       0     185     110      4\n",
       "3       0     195     104      3\n",
       "4       1     149      61      3"
      ]
     },
     "execution_count": 4,
     "metadata": {},
     "output_type": "execute_result"
    }
   ],
   "source": [
    "from sklearn.preprocessing import LabelEncoder\n",
    "le=LabelEncoder()\n",
    "df[\"Gender\"]=le.fit_transform(df.Gender)\n",
    "df.head()"
   ]
  },
  {
   "cell_type": "code",
   "execution_count": 5,
   "metadata": {},
   "outputs": [],
   "source": [
    "from sklearn.model_selection import train_test_split\n",
    "x = df[[\"Gender\",\"Height\",\"Weight\"]]\n",
    "y = df.Index\n",
    "xtrain,xtest,ytrain,ytest=train_test_split(x,y,test_size=0.2,random_state=1,shuffle=True)"
   ]
  },
  {
   "cell_type": "code",
   "execution_count": 6,
   "metadata": {},
   "outputs": [
    {
     "name": "stderr",
     "output_type": "stream",
     "text": [
      "C:\\anaconda3\\lib\\site-packages\\sklearn\\svm\\_base.py:976: ConvergenceWarning: Liblinear failed to converge, increase the number of iterations.\n",
      "  warnings.warn(\"Liblinear failed to converge, increase \"\n"
     ]
    },
    {
     "data": {
      "text/plain": [
       "LinearSVC()"
      ]
     },
     "execution_count": 6,
     "metadata": {},
     "output_type": "execute_result"
    }
   ],
   "source": [
    "from sklearn.svm import LinearSVC\n",
    "svc=LinearSVC()\n",
    "svc.fit(xtrain,ytrain)"
   ]
  },
  {
   "cell_type": "code",
   "execution_count": 7,
   "metadata": {},
   "outputs": [],
   "source": [
    "ypred=svc.predict(xtest)"
   ]
  },
  {
   "cell_type": "markdown",
   "metadata": {},
   "source": [
    "# Model accuracy"
   ]
  },
  {
   "cell_type": "markdown",
   "metadata": {},
   "source": [
    "### Overfitting & underfitting"
   ]
  },
  {
   "cell_type": "code",
   "execution_count": 8,
   "metadata": {},
   "outputs": [
    {
     "data": {
      "text/plain": [
       "0.435"
      ]
     },
     "execution_count": 8,
     "metadata": {},
     "output_type": "execute_result"
    }
   ],
   "source": [
    "#model accuracy ~= test_acc   => Model is ok\n",
    "#model acc > test_acc => overfitting\n",
    "#model acc < test_acc => underfitting\n",
    "from sklearn.metrics import accuracy_score\n",
    "model_ypred=svc.predict(xtrain)\n",
    "accuracy_score(ytrain,model_ypred)"
   ]
  },
  {
   "cell_type": "markdown",
   "metadata": {},
   "source": [
    "### Test accuracy"
   ]
  },
  {
   "cell_type": "code",
   "execution_count": 9,
   "metadata": {},
   "outputs": [
    {
     "data": {
      "text/plain": [
       "0.46"
      ]
     },
     "execution_count": 9,
     "metadata": {},
     "output_type": "execute_result"
    }
   ],
   "source": [
    "from sklearn.metrics import accuracy_score\n",
    "ypred=svc.predict(xtest)\n",
    "accuracy_score(ytest,ypred)"
   ]
  },
  {
   "cell_type": "code",
   "execution_count": 10,
   "metadata": {},
   "outputs": [
    {
     "data": {
      "text/plain": [
       "SVC(kernel='linear')"
      ]
     },
     "execution_count": 10,
     "metadata": {},
     "output_type": "execute_result"
    }
   ],
   "source": [
    "from sklearn.svm import SVC\n",
    "svc1=SVC(kernel=\"linear\",class_weight=None)\n",
    "svc1.fit(xtrain,ytrain)\n"
   ]
  },
  {
   "cell_type": "code",
   "execution_count": 11,
   "metadata": {},
   "outputs": [
    {
     "data": {
      "text/plain": [
       "0.46"
      ]
     },
     "execution_count": 11,
     "metadata": {},
     "output_type": "execute_result"
    }
   ],
   "source": [
    "ypred1=svc1.predict(xtest)\n",
    "accuracy_score(ytest,ypred)"
   ]
  },
  {
   "cell_type": "code",
   "execution_count": 13,
   "metadata": {},
   "outputs": [],
   "source": [
    "svc2=SVC(kernel=\"rbf\").fit(xtrain,ytrain)"
   ]
  },
  {
   "cell_type": "code",
   "execution_count": 16,
   "metadata": {},
   "outputs": [
    {
     "data": {
      "text/plain": [
       "0.83"
      ]
     },
     "execution_count": 16,
     "metadata": {},
     "output_type": "execute_result"
    }
   ],
   "source": [
    "svc2.score(xtrain,ytrain)"
   ]
  },
  {
   "cell_type": "code",
   "execution_count": 19,
   "metadata": {},
   "outputs": [
    {
     "data": {
      "text/plain": [
       "0.9"
      ]
     },
     "execution_count": 19,
     "metadata": {},
     "output_type": "execute_result"
    }
   ],
   "source": [
    "svc2.score(xtest,ytest)"
   ]
  },
  {
   "cell_type": "code",
   "execution_count": 20,
   "metadata": {},
   "outputs": [],
   "source": [
    "svc2=SVC(kernel=\"poly\",degree=3).fit(xtrain,ytrain)"
   ]
  },
  {
   "cell_type": "code",
   "execution_count": 21,
   "metadata": {},
   "outputs": [
    {
     "data": {
      "text/plain": [
       "0.895"
      ]
     },
     "execution_count": 21,
     "metadata": {},
     "output_type": "execute_result"
    }
   ],
   "source": [
    "svc2.score(xtrain,ytrain)"
   ]
  },
  {
   "cell_type": "code",
   "execution_count": 22,
   "metadata": {},
   "outputs": [
    {
     "data": {
      "text/plain": [
       "0.9"
      ]
     },
     "execution_count": 22,
     "metadata": {},
     "output_type": "execute_result"
    }
   ],
   "source": [
    "svc2.score(xtest,ytest)"
   ]
  },
  {
   "cell_type": "code",
   "execution_count": 23,
   "metadata": {},
   "outputs": [],
   "source": [
    "svc2=SVC(kernel=\"sigmoid\").fit(xtrain,ytrain)"
   ]
  },
  {
   "cell_type": "code",
   "execution_count": 24,
   "metadata": {},
   "outputs": [
    {
     "data": {
      "text/plain": [
       "0.385"
      ]
     },
     "execution_count": 24,
     "metadata": {},
     "output_type": "execute_result"
    }
   ],
   "source": [
    "svc2.score(xtrain,ytrain)"
   ]
  },
  {
   "cell_type": "code",
   "execution_count": 25,
   "metadata": {},
   "outputs": [
    {
     "data": {
      "text/plain": [
       "0.44"
      ]
     },
     "execution_count": 25,
     "metadata": {},
     "output_type": "execute_result"
    }
   ],
   "source": [
    "svc2.score(xtest,ytest)"
   ]
  },
  {
   "cell_type": "code",
   "execution_count": 26,
   "metadata": {},
   "outputs": [
    {
     "data": {
      "text/plain": [
       "array([[  1., 188.,  54.],\n",
       "       [  0., 163.,  57.],\n",
       "       [  1., 181.,  51.],\n",
       "       [  0., 191.,  54.],\n",
       "       [  1., 188.,  65.],\n",
       "       [  0., 195.,  61.],\n",
       "       [  0., 176.,  54.],\n",
       "       [  1., 168.,  50.],\n",
       "       [  1., 184.,  57.],\n",
       "       [  0., 170.,  53.],\n",
       "       [  1., 188.,  57.],\n",
       "       [  0., 148.,  54.],\n",
       "       [  0., 185.,  81.],\n",
       "       [  0., 180.,  60.],\n",
       "       [  0., 163.,  63.],\n",
       "       [  0., 157.,  60.],\n",
       "       [  1., 176.,  77.],\n",
       "       [  0., 191.,  68.],\n",
       "       [  1., 199.,  99.],\n",
       "       [  0., 151.,  55.],\n",
       "       [  0., 192.,  90.],\n",
       "       [  0., 169.,  88.],\n",
       "       [  0., 181.,  80.],\n",
       "       [  0., 153.,  78.],\n",
       "       [  0., 173.,  82.],\n",
       "       [  0., 169.,  54.],\n",
       "       [  1., 165.,  68.],\n",
       "       [  0., 175.,  83.],\n",
       "       [  1., 189.,  87.],\n",
       "       [  0., 160.,  51.],\n",
       "       [  1., 155.,  57.],\n",
       "       [  0., 164.,  70.],\n",
       "       [  0., 184.,  86.],\n",
       "       [  1., 183., 105.],\n",
       "       [  0., 162.,  68.],\n",
       "       [  1., 165.,  80.],\n",
       "       [  1., 178.,  83.],\n",
       "       [  1., 179.,  83.],\n",
       "       [  1., 182.,  98.],\n",
       "       [  0., 164.,  71.],\n",
       "       [  1., 174.,  90.],\n",
       "       [  0., 187.,  89.],\n",
       "       [  0., 188.,  90.],\n",
       "       [  0., 192., 108.],\n",
       "       [  1., 172.,  75.],\n",
       "       [  1., 174.,  90.],\n",
       "       [  0., 150.,  60.],\n",
       "       [  0., 197., 114.],\n",
       "       [  0., 168., 115.],\n",
       "       [  1., 140.,  52.],\n",
       "       [  0., 185., 100.],\n",
       "       [  1., 166.,  70.],\n",
       "       [  0., 151.,  64.],\n",
       "       [  1., 149.,  66.],\n",
       "       [  0., 149.,  61.],\n",
       "       [  0., 182.,  84.],\n",
       "       [  0., 164.,  71.],\n",
       "       [  0., 183.,  87.],\n",
       "       [  1., 156.,  74.],\n",
       "       [  0., 171., 118.],\n",
       "       [  0., 172.,  90.],\n",
       "       [  1., 188., 141.],\n",
       "       [  0., 168.,  87.],\n",
       "       [  1., 199., 156.],\n",
       "       [  1., 172.,  92.],\n",
       "       [  0., 177.,  96.],\n",
       "       [  1., 196., 116.],\n",
       "       [  0., 167.,  85.],\n",
       "       [  1., 197., 119.],\n",
       "       [  0., 186., 148.],\n",
       "       [  0., 197., 154.],\n",
       "       [  1., 146.,  85.],\n",
       "       [  1., 194., 115.],\n",
       "       [  1., 157.,  74.],\n",
       "       [  0., 140.,  76.],\n",
       "       [  0., 148.,  67.],\n",
       "       [  0., 167.,  85.],\n",
       "       [  0., 164.,  82.],\n",
       "       [  1., 144.,  80.],\n",
       "       [  1., 185., 139.],\n",
       "       [  0., 185., 140.],\n",
       "       [  0., 154.,  96.],\n",
       "       [  0., 159., 104.],\n",
       "       [  1., 179., 130.],\n",
       "       [  0., 171., 120.],\n",
       "       [  1., 195., 153.],\n",
       "       [  1., 178., 127.],\n",
       "       [  1., 140.,  79.],\n",
       "       [  1., 141.,  80.]])"
      ]
     },
     "execution_count": 26,
     "metadata": {},
     "output_type": "execute_result"
    }
   ],
   "source": [
    "svc1.support_vectors_"
   ]
  },
  {
   "cell_type": "code",
   "execution_count": 27,
   "metadata": {},
   "outputs": [
    {
     "data": {
      "text/plain": [
       "array([ 90, 147, 181, 257,   1,  81, 117, 267, 281, 284, 318,  35,  53,\n",
       "        93, 100, 124, 138, 150, 153, 163, 176, 212, 227, 228, 252, 260,\n",
       "       279, 291, 358, 367, 391,   3,  42,  43,  59,  74,  85, 102, 141,\n",
       "       158, 184, 193, 214, 219, 238, 248, 263, 275, 285, 297, 301, 327,\n",
       "       329, 335, 372, 374, 376, 394,  25,  27,  36,  64,  87, 165, 230,\n",
       "       237, 243, 245, 258, 274, 280, 304, 319, 330, 333, 355, 365, 370,\n",
       "       399,  49,  71,  82, 104, 162, 164, 198, 271, 389, 396])"
      ]
     },
     "execution_count": 27,
     "metadata": {},
     "output_type": "execute_result"
    }
   ],
   "source": [
    "svc1.support_"
   ]
  },
  {
   "cell_type": "code",
   "execution_count": 28,
   "metadata": {},
   "outputs": [
    {
     "data": {
      "text/plain": [
       "array([ 4,  7, 20, 27, 21, 10])"
      ]
     },
     "execution_count": 28,
     "metadata": {},
     "output_type": "execute_result"
    }
   ],
   "source": [
    "svc1.n_support_"
   ]
  },
  {
   "cell_type": "code",
   "execution_count": 29,
   "metadata": {},
   "outputs": [
    {
     "data": {
      "text/plain": [
       "5    198\n",
       "4    130\n",
       "2     69\n",
       "3     68\n",
       "1     22\n",
       "0     13\n",
       "Name: Index, dtype: int64"
      ]
     },
     "execution_count": 29,
     "metadata": {},
     "output_type": "execute_result"
    }
   ],
   "source": [
    "df.Index.value_counts()"
   ]
  },
  {
   "cell_type": "code",
   "execution_count": 31,
   "metadata": {},
   "outputs": [
    {
     "data": {
      "text/plain": [
       "0.9475"
      ]
     },
     "execution_count": 31,
     "metadata": {},
     "output_type": "execute_result"
    }
   ],
   "source": [
    "svc2=SVC(kernel=\"linear\",class_weight=\"balanced\").fit(xtrain,ytrain)\n",
    "svc2.score(xtrain,ytrain)"
   ]
  },
  {
   "cell_type": "code",
   "execution_count": null,
   "metadata": {},
   "outputs": [],
   "source": []
  }
 ],
 "metadata": {
  "kernelspec": {
   "display_name": "Python 3",
   "language": "python",
   "name": "python3"
  },
  "language_info": {
   "codemirror_mode": {
    "name": "ipython",
    "version": 3
   },
   "file_extension": ".py",
   "mimetype": "text/x-python",
   "name": "python",
   "nbconvert_exporter": "python",
   "pygments_lexer": "ipython3",
   "version": "3.8.5"
  }
 },
 "nbformat": 4,
 "nbformat_minor": 4
}
